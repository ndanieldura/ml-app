{
 "cells": [
  {
   "cell_type": "code",
   "execution_count": 2,
   "metadata": {},
   "outputs": [],
   "source": [
    "import pandas as pd\r\n",
    "import lasio\r\n",
    "import os\r\n"
   ]
  },
  {
   "cell_type": "markdown",
   "metadata": {},
   "source": [
    "## Data loading-preprocessing"
   ]
  },
  {
   "cell_type": "code",
   "execution_count": 3,
   "metadata": {},
   "outputs": [
    {
     "name": "stdout",
     "output_type": "stream",
     "text": [
      "We have 7 wells\n"
     ]
    }
   ],
   "source": [
    "las_files = []\n",
    "path = \"Data Wells/\"\n",
    "files = os.listdir(path)\n",
    "\n",
    "for file in files:\n",
    "    if file.lower().endswith('.las'):\n",
    "        las_files.append(path + file)\n",
    "\n",
    "print(f'We have {len(las_files)} wells')\n"
   ]
  },
  {
   "cell_type": "code",
   "execution_count": 4,
   "metadata": {},
   "outputs": [],
   "source": [
    "df_list=[]\n",
    "for file in las_files:\n",
    "    las = lasio.read(file)\n",
    "    data = las.df()\n",
    "    data['WELL'] = las.well.WELL.value\n",
    "    data.index.names = ['DEPTH']\n",
    "    data.rename(columns={'LITHOLOGY_GEOLINK':'Lithology'},inplace=True)\n",
    "    data.reset_index(inplace=True)\n",
    "    df_list.append(data)\n",
    "\n",
    "df = pd.concat(df_list,sort=True)"
   ]
  },
  {
   "cell_type": "code",
   "execution_count": 12,
   "metadata": {},
   "outputs": [],
   "source": [
    "df.to_csv('data.csv')"
   ]
  },
  {
   "cell_type": "code",
   "execution_count": 10,
   "metadata": {},
   "outputs": [
    {
     "data": {
      "text/plain": [
       "['Data wells/15_9-17.las', 'Data wells/15_9-7.las', 'Data wells/15_9-8.las']"
      ]
     },
     "execution_count": 10,
     "metadata": {},
     "output_type": "execute_result"
    }
   ],
   "source": [
    "import re\r\n",
    "\r\n",
    "las_files=[]\r\n",
    "\r\n",
    "path= \"Data wells/\"\r\n",
    "regex = re.compile('^15_9+\\-(7|8|17)')\r\n",
    "\r\n",
    "files = os.listdir(path)\r\n",
    "\r\n",
    "for file in files:\r\n",
    "  if regex.match(file):\r\n",
    "      las_files.append(path + file)\r\n",
    "\r\n",
    "las_files"
   ]
  }
 ],
 "metadata": {
  "interpreter": {
   "hash": "c115311e69075540746b83fb9cb1e0cc4de2b3022ff03b5f1dc43e6bb9d80c5d"
  },
  "kernelspec": {
   "display_name": "Python 3.9.6 64-bit",
   "name": "python3"
  },
  "language_info": {
   "codemirror_mode": {
    "name": "ipython",
    "version": 3
   },
   "file_extension": ".py",
   "mimetype": "text/x-python",
   "name": "python",
   "nbconvert_exporter": "python",
   "pygments_lexer": "ipython3",
   "version": "3.9.6"
  },
  "orig_nbformat": 4
 },
 "nbformat": 4,
 "nbformat_minor": 2
}